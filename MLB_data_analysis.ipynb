{
 "cells": [
  {
   "cell_type": "markdown",
   "metadata": {},
   "source": [
    "# MLB惯用手对于投球手的数据差异实验报告\n",
    "本实验数据基于Sean Lahman(http://www.seanlahman.com/baseball-archive/statistics/) 所采集的1871-2016年MLB数据\n",
    "### 实验目的\n",
    "通过对数据集分析，探索惯用手不同和表现差异之间的相关性，针对击球手位置\n",
    "### 表现评估准则\n",
    "评估击球表现采用三个量化标准：\n",
    "#### 1.打击率 BA = H / AB \n",
    "#### 2.上垒率 OBP = （H+BB+HBP）/（AB+BB+HBP+SF）\n",
    "#### 3.长打率 SLG = [H+2(2B)+3(3B)+4HR]/AB\n",
    "#### 4.攻击指数 OPS = OBP + SLG\n",
    "（其中H为安全打击数，AB为上场打击的次数,HR为全垒打数，2B为二垒打数，3B为三垒打数，BB为保送数，HBP为触身球数，SF为牺牲球数）\n",
    "### 零假设\n",
    "无论球员的惯用手如何，表现数据都不会和整体有显著差距"
   ]
  },
  {
   "cell_type": "code",
   "execution_count": 1,
   "metadata": {
    "scrolled": true
   },
   "outputs": [
    {
     "data": {
      "text/plain": [
       "102816"
      ]
     },
     "execution_count": 1,
     "metadata": {},
     "output_type": "execute_result"
    }
   ],
   "source": [
    "#读取数据\n",
    "import pandas as pd\n",
    "\n",
    "batting_data = pd.read_csv(\"Batting.csv\")\n",
    "len(batting_data)"
   ]
  },
  {
   "cell_type": "code",
   "execution_count": 2,
   "metadata": {
    "scrolled": true
   },
   "outputs": [
    {
     "data": {
      "text/plain": [
       "102816"
      ]
     },
     "execution_count": 2,
     "metadata": {},
     "output_type": "execute_result"
    }
   ],
   "source": [
    "#删除用不到的列\n",
    "data_to_drop = [\"stint\",\"teamID\",\"yearID\",\"lgID\",\"G\",\"R\"\n",
    "               ,\"RBI\",\"SB\",\"CS\",\"SO\",\"IBB\",\"SH\",\"GIDP\"]\n",
    "batting_data.drop(labels = data_to_drop,axis = 1,inplace = True)\n",
    "len(batting_data)"
   ]
  },
  {
   "cell_type": "code",
   "execution_count": 3,
   "metadata": {
    "collapsed": true
   },
   "outputs": [],
   "source": [
    "#找出数据值不存在的球员的函数\n",
    "def get_null_index(dataframe_obj,position = 1):\n",
    "    null_num_list = dataframe_obj.isnull().sum(axis = position).tolist()\n",
    "    list_to_drop = []\n",
    "    for i in range(len(null_num_list)):\n",
    "        if null_num_list[i] != 0L:\n",
    "            list_to_drop.append(i)\n",
    "    return list_to_drop"
   ]
  },
  {
   "cell_type": "code",
   "execution_count": 4,
   "metadata": {
    "scrolled": true
   },
   "outputs": [
    {
     "data": {
      "text/html": [
       "<div>\n",
       "<style>\n",
       "    .dataframe thead tr:only-child th {\n",
       "        text-align: right;\n",
       "    }\n",
       "\n",
       "    .dataframe thead th {\n",
       "        text-align: left;\n",
       "    }\n",
       "\n",
       "    .dataframe tbody tr th {\n",
       "        vertical-align: top;\n",
       "    }\n",
       "</style>\n",
       "<table border=\"1\" class=\"dataframe\">\n",
       "  <thead>\n",
       "    <tr style=\"text-align: right;\">\n",
       "      <th></th>\n",
       "      <th>playerID</th>\n",
       "      <th>AB</th>\n",
       "      <th>H</th>\n",
       "      <th>2B</th>\n",
       "      <th>3B</th>\n",
       "      <th>HR</th>\n",
       "      <th>BB</th>\n",
       "      <th>HBP</th>\n",
       "      <th>SF</th>\n",
       "    </tr>\n",
       "  </thead>\n",
       "  <tbody>\n",
       "    <tr>\n",
       "      <th>4560</th>\n",
       "      <td>colemjo02</td>\n",
       "      <td>0</td>\n",
       "      <td>0</td>\n",
       "      <td>0</td>\n",
       "      <td>0</td>\n",
       "      <td>0</td>\n",
       "      <td>0</td>\n",
       "      <td>0.0</td>\n",
       "      <td>0.0</td>\n",
       "    </tr>\n",
       "    <tr>\n",
       "      <th>5088</th>\n",
       "      <td>brynato01</td>\n",
       "      <td>0</td>\n",
       "      <td>0</td>\n",
       "      <td>0</td>\n",
       "      <td>0</td>\n",
       "      <td>0</td>\n",
       "      <td>0</td>\n",
       "      <td>0.0</td>\n",
       "      <td>0.0</td>\n",
       "    </tr>\n",
       "    <tr>\n",
       "      <th>5177</th>\n",
       "      <td>dunnian01</td>\n",
       "      <td>0</td>\n",
       "      <td>0</td>\n",
       "      <td>0</td>\n",
       "      <td>0</td>\n",
       "      <td>0</td>\n",
       "      <td>0</td>\n",
       "      <td>0.0</td>\n",
       "      <td>0.0</td>\n",
       "    </tr>\n",
       "    <tr>\n",
       "      <th>5415</th>\n",
       "      <td>sulliji01</td>\n",
       "      <td>0</td>\n",
       "      <td>0</td>\n",
       "      <td>0</td>\n",
       "      <td>0</td>\n",
       "      <td>0</td>\n",
       "      <td>0</td>\n",
       "      <td>0.0</td>\n",
       "      <td>0.0</td>\n",
       "    </tr>\n",
       "    <tr>\n",
       "      <th>5747</th>\n",
       "      <td>viaule01</td>\n",
       "      <td>0</td>\n",
       "      <td>0</td>\n",
       "      <td>0</td>\n",
       "      <td>0</td>\n",
       "      <td>0</td>\n",
       "      <td>0</td>\n",
       "      <td>0.0</td>\n",
       "      <td>0.0</td>\n",
       "    </tr>\n",
       "  </tbody>\n",
       "</table>\n",
       "</div>"
      ],
      "text/plain": [
       "       playerID  AB  H  2B  3B  HR  BB  HBP   SF\n",
       "4560  colemjo02   0  0   0   0   0   0  0.0  0.0\n",
       "5088  brynato01   0  0   0   0   0   0  0.0  0.0\n",
       "5177  dunnian01   0  0   0   0   0   0  0.0  0.0\n",
       "5415  sulliji01   0  0   0   0   0   0  0.0  0.0\n",
       "5747   viaule01   0  0   0   0   0   0  0.0  0.0"
      ]
     },
     "execution_count": 4,
     "metadata": {},
     "output_type": "execute_result"
    }
   ],
   "source": [
    "#清除核心值不存在的球员\n",
    "list_to_drop = get_null_index(batting_data)\n",
    "\n",
    "batting_data.drop(labels = list_to_drop,axis = 0,inplace = True)   \n",
    "batting_data.head()\n",
    "#删除所有没有击球数据不完整的球手 "
   ]
  },
  {
   "cell_type": "code",
   "execution_count": 5,
   "metadata": {
    "scrolled": false
   },
   "outputs": [
    {
     "data": {
      "text/html": [
       "<div>\n",
       "<style>\n",
       "    .dataframe thead tr:only-child th {\n",
       "        text-align: right;\n",
       "    }\n",
       "\n",
       "    .dataframe thead th {\n",
       "        text-align: left;\n",
       "    }\n",
       "\n",
       "    .dataframe tbody tr th {\n",
       "        vertical-align: top;\n",
       "    }\n",
       "</style>\n",
       "<table border=\"1\" class=\"dataframe\">\n",
       "  <thead>\n",
       "    <tr style=\"text-align: right;\">\n",
       "      <th></th>\n",
       "      <th>playerID</th>\n",
       "      <th>AB</th>\n",
       "      <th>H</th>\n",
       "      <th>2B</th>\n",
       "      <th>3B</th>\n",
       "      <th>HR</th>\n",
       "      <th>BB</th>\n",
       "      <th>HBP</th>\n",
       "      <th>SF</th>\n",
       "    </tr>\n",
       "  </thead>\n",
       "  <tbody>\n",
       "    <tr>\n",
       "      <th>36873</th>\n",
       "      <td>aaronha01</td>\n",
       "      <td>468</td>\n",
       "      <td>131</td>\n",
       "      <td>27</td>\n",
       "      <td>6</td>\n",
       "      <td>13</td>\n",
       "      <td>28</td>\n",
       "      <td>3.0</td>\n",
       "      <td>4.0</td>\n",
       "    </tr>\n",
       "    <tr>\n",
       "      <th>36874</th>\n",
       "      <td>aberal01</td>\n",
       "      <td>39</td>\n",
       "      <td>5</td>\n",
       "      <td>0</td>\n",
       "      <td>0</td>\n",
       "      <td>0</td>\n",
       "      <td>2</td>\n",
       "      <td>0.0</td>\n",
       "      <td>1.0</td>\n",
       "    </tr>\n",
       "    <tr>\n",
       "      <th>36875</th>\n",
       "      <td>abramca01</td>\n",
       "      <td>42</td>\n",
       "      <td>6</td>\n",
       "      <td>1</td>\n",
       "      <td>1</td>\n",
       "      <td>0</td>\n",
       "      <td>10</td>\n",
       "      <td>0.0</td>\n",
       "      <td>0.0</td>\n",
       "    </tr>\n",
       "    <tr>\n",
       "      <th>36876</th>\n",
       "      <td>abramca01</td>\n",
       "      <td>423</td>\n",
       "      <td>124</td>\n",
       "      <td>22</td>\n",
       "      <td>7</td>\n",
       "      <td>6</td>\n",
       "      <td>72</td>\n",
       "      <td>4.0</td>\n",
       "      <td>1.0</td>\n",
       "    </tr>\n",
       "    <tr>\n",
       "      <th>36877</th>\n",
       "      <td>adamsbo03</td>\n",
       "      <td>390</td>\n",
       "      <td>105</td>\n",
       "      <td>25</td>\n",
       "      <td>6</td>\n",
       "      <td>3</td>\n",
       "      <td>55</td>\n",
       "      <td>3.0</td>\n",
       "      <td>2.0</td>\n",
       "    </tr>\n",
       "  </tbody>\n",
       "</table>\n",
       "</div>"
      ],
      "text/plain": [
       "        playerID   AB    H  2B  3B  HR  BB  HBP   SF\n",
       "36873  aaronha01  468  131  27   6  13  28  3.0  4.0\n",
       "36874   aberal01   39    5   0   0   0   2  0.0  1.0\n",
       "36875  abramca01   42    6   1   1   0  10  0.0  0.0\n",
       "36876  abramca01  423  124  22   7   6  72  4.0  1.0\n",
       "36877  adamsbo03  390  105  25   6   3  55  3.0  2.0"
      ]
     },
     "execution_count": 5,
     "metadata": {},
     "output_type": "execute_result"
    }
   ],
   "source": [
    "#删除所有AB值为0的球员数据 可能是投球手位置\n",
    "data_to_drop = batting_data[batting_data[\"AB\"] == 0].index\n",
    "batting_data.drop(labels = data_to_drop,axis = 0,inplace = True)\n",
    "batting_data.head()"
   ]
  },
  {
   "cell_type": "code",
   "execution_count": 6,
   "metadata": {
    "scrolled": false
   },
   "outputs": [
    {
     "data": {
      "text/html": [
       "<div>\n",
       "<style>\n",
       "    .dataframe thead tr:only-child th {\n",
       "        text-align: right;\n",
       "    }\n",
       "\n",
       "    .dataframe thead th {\n",
       "        text-align: left;\n",
       "    }\n",
       "\n",
       "    .dataframe tbody tr th {\n",
       "        vertical-align: top;\n",
       "    }\n",
       "</style>\n",
       "<table border=\"1\" class=\"dataframe\">\n",
       "  <thead>\n",
       "    <tr style=\"text-align: right;\">\n",
       "      <th></th>\n",
       "      <th>playerID</th>\n",
       "      <th>BA</th>\n",
       "      <th>OBP</th>\n",
       "      <th>SLG</th>\n",
       "      <th>OPS</th>\n",
       "    </tr>\n",
       "  </thead>\n",
       "  <tbody>\n",
       "    <tr>\n",
       "      <th>36873</th>\n",
       "      <td>aaronha01</td>\n",
       "      <td>0.279915</td>\n",
       "      <td>0.322068</td>\n",
       "      <td>0.544872</td>\n",
       "      <td>0.866939</td>\n",
       "    </tr>\n",
       "    <tr>\n",
       "      <th>36874</th>\n",
       "      <td>aberal01</td>\n",
       "      <td>0.128205</td>\n",
       "      <td>0.166667</td>\n",
       "      <td>0.128205</td>\n",
       "      <td>0.294872</td>\n",
       "    </tr>\n",
       "    <tr>\n",
       "      <th>36875</th>\n",
       "      <td>abramca01</td>\n",
       "      <td>0.142857</td>\n",
       "      <td>0.307692</td>\n",
       "      <td>0.261905</td>\n",
       "      <td>0.569597</td>\n",
       "    </tr>\n",
       "    <tr>\n",
       "      <th>36876</th>\n",
       "      <td>abramca01</td>\n",
       "      <td>0.293144</td>\n",
       "      <td>0.400000</td>\n",
       "      <td>0.503546</td>\n",
       "      <td>0.903546</td>\n",
       "    </tr>\n",
       "    <tr>\n",
       "      <th>36877</th>\n",
       "      <td>adamsbo03</td>\n",
       "      <td>0.269231</td>\n",
       "      <td>0.362222</td>\n",
       "      <td>0.474359</td>\n",
       "      <td>0.836581</td>\n",
       "    </tr>\n",
       "  </tbody>\n",
       "</table>\n",
       "</div>"
      ],
      "text/plain": [
       "        playerID        BA       OBP       SLG       OPS\n",
       "36873  aaronha01  0.279915  0.322068  0.544872  0.866939\n",
       "36874   aberal01  0.128205  0.166667  0.128205  0.294872\n",
       "36875  abramca01  0.142857  0.307692  0.261905  0.569597\n",
       "36876  abramca01  0.293144  0.400000  0.503546  0.903546\n",
       "36877  adamsbo03  0.269231  0.362222  0.474359  0.836581"
      ]
     },
     "execution_count": 6,
     "metadata": {},
     "output_type": "execute_result"
    }
   ],
   "source": [
    "#计算核心表现值，并删除掉多余的列\n",
    "batting_data[\"BA\"] = pd.DataFrame(batting_data[\"H\"] / batting_data[\"AB\"])\n",
    "batting_data[\"OBP\"] = pd.DataFrame((batting_data[\"H\"] + batting_data[\"BB\"] + batting_data[\"HBP\"])\n",
    "                                    /(batting_data[\"AB\"] + batting_data[\"BB\"] + batting_data[\"HBP\"]+batting_data[\"SF\"]))\n",
    "batting_data[\"SLG\"] = pd.DataFrame(( batting_data[\"H\"] + 2*batting_data[\"2B\"]+3*batting_data[\"3B\"]\n",
    "                                   +4*batting_data[\"HR\"]) / batting_data[\"AB\"])\n",
    "batting_data[\"OPS\"] = pd.DataFrame(batting_data[\"SLG\"] + batting_data[\"OBP\"])\n",
    "data_to_drop = [\"AB\",\"H\",\"2B\",\"3B\",\"HR\",\"BB\",\"HBP\",\"SF\"]\n",
    "batting_data.drop(labels = data_to_drop,axis = 1,inplace = True)\n",
    "batting_data.head()"
   ]
  },
  {
   "cell_type": "code",
   "execution_count": 7,
   "metadata": {
    "scrolled": true
   },
   "outputs": [
    {
     "data": {
      "text/html": [
       "<div>\n",
       "<style>\n",
       "    .dataframe thead tr:only-child th {\n",
       "        text-align: right;\n",
       "    }\n",
       "\n",
       "    .dataframe thead th {\n",
       "        text-align: left;\n",
       "    }\n",
       "\n",
       "    .dataframe tbody tr th {\n",
       "        vertical-align: top;\n",
       "    }\n",
       "</style>\n",
       "<table border=\"1\" class=\"dataframe\">\n",
       "  <thead>\n",
       "    <tr style=\"text-align: right;\">\n",
       "      <th></th>\n",
       "      <th>BA</th>\n",
       "      <th>OBP</th>\n",
       "      <th>SLG</th>\n",
       "      <th>OPS</th>\n",
       "    </tr>\n",
       "  </thead>\n",
       "  <tbody>\n",
       "    <tr>\n",
       "      <th>count</th>\n",
       "      <td>51704.000000</td>\n",
       "      <td>51704.000000</td>\n",
       "      <td>51704.000000</td>\n",
       "      <td>51704.000000</td>\n",
       "    </tr>\n",
       "    <tr>\n",
       "      <th>mean</th>\n",
       "      <td>0.202597</td>\n",
       "      <td>0.257936</td>\n",
       "      <td>0.348390</td>\n",
       "      <td>0.606326</td>\n",
       "    </tr>\n",
       "    <tr>\n",
       "      <th>std</th>\n",
       "      <td>0.125599</td>\n",
       "      <td>0.139285</td>\n",
       "      <td>0.249281</td>\n",
       "      <td>0.368948</td>\n",
       "    </tr>\n",
       "    <tr>\n",
       "      <th>min</th>\n",
       "      <td>0.000000</td>\n",
       "      <td>0.000000</td>\n",
       "      <td>0.000000</td>\n",
       "      <td>0.000000</td>\n",
       "    </tr>\n",
       "    <tr>\n",
       "      <th>25%</th>\n",
       "      <td>0.136364</td>\n",
       "      <td>0.187500</td>\n",
       "      <td>0.176471</td>\n",
       "      <td>0.376623</td>\n",
       "    </tr>\n",
       "    <tr>\n",
       "      <th>50%</th>\n",
       "      <td>0.228395</td>\n",
       "      <td>0.290640</td>\n",
       "      <td>0.373570</td>\n",
       "      <td>0.668095</td>\n",
       "    </tr>\n",
       "    <tr>\n",
       "      <th>75%</th>\n",
       "      <td>0.270588</td>\n",
       "      <td>0.336957</td>\n",
       "      <td>0.495687</td>\n",
       "      <td>0.826087</td>\n",
       "    </tr>\n",
       "    <tr>\n",
       "      <th>max</th>\n",
       "      <td>1.000000</td>\n",
       "      <td>1.000000</td>\n",
       "      <td>5.000000</td>\n",
       "      <td>6.000000</td>\n",
       "    </tr>\n",
       "  </tbody>\n",
       "</table>\n",
       "</div>"
      ],
      "text/plain": [
       "                 BA           OBP           SLG           OPS\n",
       "count  51704.000000  51704.000000  51704.000000  51704.000000\n",
       "mean       0.202597      0.257936      0.348390      0.606326\n",
       "std        0.125599      0.139285      0.249281      0.368948\n",
       "min        0.000000      0.000000      0.000000      0.000000\n",
       "25%        0.136364      0.187500      0.176471      0.376623\n",
       "50%        0.228395      0.290640      0.373570      0.668095\n",
       "75%        0.270588      0.336957      0.495687      0.826087\n",
       "max        1.000000      1.000000      5.000000      6.000000"
      ]
     },
     "execution_count": 7,
     "metadata": {},
     "output_type": "execute_result"
    }
   ],
   "source": [
    "#击球总体数据概览\n",
    "batting_data.describe()"
   ]
  },
  {
   "cell_type": "code",
   "execution_count": 8,
   "metadata": {},
   "outputs": [
    {
     "data": {
      "text/html": [
       "<div>\n",
       "<style>\n",
       "    .dataframe thead tr:only-child th {\n",
       "        text-align: right;\n",
       "    }\n",
       "\n",
       "    .dataframe thead th {\n",
       "        text-align: left;\n",
       "    }\n",
       "\n",
       "    .dataframe tbody tr th {\n",
       "        vertical-align: top;\n",
       "    }\n",
       "</style>\n",
       "<table border=\"1\" class=\"dataframe\">\n",
       "  <thead>\n",
       "    <tr style=\"text-align: right;\">\n",
       "      <th></th>\n",
       "      <th>playerID</th>\n",
       "      <th>bats</th>\n",
       "    </tr>\n",
       "  </thead>\n",
       "  <tbody>\n",
       "    <tr>\n",
       "      <th>0</th>\n",
       "      <td>aardsda01</td>\n",
       "      <td>R</td>\n",
       "    </tr>\n",
       "    <tr>\n",
       "      <th>1</th>\n",
       "      <td>aaronha01</td>\n",
       "      <td>R</td>\n",
       "    </tr>\n",
       "    <tr>\n",
       "      <th>2</th>\n",
       "      <td>aaronto01</td>\n",
       "      <td>R</td>\n",
       "    </tr>\n",
       "    <tr>\n",
       "      <th>3</th>\n",
       "      <td>aasedo01</td>\n",
       "      <td>R</td>\n",
       "    </tr>\n",
       "    <tr>\n",
       "      <th>4</th>\n",
       "      <td>abadan01</td>\n",
       "      <td>L</td>\n",
       "    </tr>\n",
       "    <tr>\n",
       "      <th>5</th>\n",
       "      <td>abadfe01</td>\n",
       "      <td>L</td>\n",
       "    </tr>\n",
       "    <tr>\n",
       "      <th>6</th>\n",
       "      <td>abadijo01</td>\n",
       "      <td>R</td>\n",
       "    </tr>\n",
       "    <tr>\n",
       "      <th>7</th>\n",
       "      <td>abbated01</td>\n",
       "      <td>R</td>\n",
       "    </tr>\n",
       "    <tr>\n",
       "      <th>8</th>\n",
       "      <td>abbeybe01</td>\n",
       "      <td>R</td>\n",
       "    </tr>\n",
       "    <tr>\n",
       "      <th>9</th>\n",
       "      <td>abbeych01</td>\n",
       "      <td>L</td>\n",
       "    </tr>\n",
       "    <tr>\n",
       "      <th>10</th>\n",
       "      <td>abbotda01</td>\n",
       "      <td>R</td>\n",
       "    </tr>\n",
       "    <tr>\n",
       "      <th>11</th>\n",
       "      <td>abbotfr01</td>\n",
       "      <td>R</td>\n",
       "    </tr>\n",
       "    <tr>\n",
       "      <th>12</th>\n",
       "      <td>abbotgl01</td>\n",
       "      <td>R</td>\n",
       "    </tr>\n",
       "    <tr>\n",
       "      <th>13</th>\n",
       "      <td>abbotje01</td>\n",
       "      <td>R</td>\n",
       "    </tr>\n",
       "    <tr>\n",
       "      <th>14</th>\n",
       "      <td>abbotji01</td>\n",
       "      <td>L</td>\n",
       "    </tr>\n",
       "    <tr>\n",
       "      <th>15</th>\n",
       "      <td>abbotku01</td>\n",
       "      <td>R</td>\n",
       "    </tr>\n",
       "    <tr>\n",
       "      <th>16</th>\n",
       "      <td>abbotky01</td>\n",
       "      <td>L</td>\n",
       "    </tr>\n",
       "    <tr>\n",
       "      <th>17</th>\n",
       "      <td>abbotod01</td>\n",
       "      <td>R</td>\n",
       "    </tr>\n",
       "    <tr>\n",
       "      <th>18</th>\n",
       "      <td>abbotpa01</td>\n",
       "      <td>R</td>\n",
       "    </tr>\n",
       "    <tr>\n",
       "      <th>19</th>\n",
       "      <td>aberal01</td>\n",
       "      <td>L</td>\n",
       "    </tr>\n",
       "    <tr>\n",
       "      <th>21</th>\n",
       "      <td>abercre01</td>\n",
       "      <td>R</td>\n",
       "    </tr>\n",
       "    <tr>\n",
       "      <th>22</th>\n",
       "      <td>abernbi01</td>\n",
       "      <td>R</td>\n",
       "    </tr>\n",
       "    <tr>\n",
       "      <th>23</th>\n",
       "      <td>abernbr01</td>\n",
       "      <td>R</td>\n",
       "    </tr>\n",
       "    <tr>\n",
       "      <th>24</th>\n",
       "      <td>abernte01</td>\n",
       "      <td>R</td>\n",
       "    </tr>\n",
       "    <tr>\n",
       "      <th>25</th>\n",
       "      <td>abernte02</td>\n",
       "      <td>R</td>\n",
       "    </tr>\n",
       "  </tbody>\n",
       "</table>\n",
       "</div>"
      ],
      "text/plain": [
       "     playerID bats\n",
       "0   aardsda01    R\n",
       "1   aaronha01    R\n",
       "2   aaronto01    R\n",
       "3    aasedo01    R\n",
       "4    abadan01    L\n",
       "5    abadfe01    L\n",
       "6   abadijo01    R\n",
       "7   abbated01    R\n",
       "8   abbeybe01    R\n",
       "9   abbeych01    L\n",
       "10  abbotda01    R\n",
       "11  abbotfr01    R\n",
       "12  abbotgl01    R\n",
       "13  abbotje01    R\n",
       "14  abbotji01    L\n",
       "15  abbotku01    R\n",
       "16  abbotky01    L\n",
       "17  abbotod01    R\n",
       "18  abbotpa01    R\n",
       "19   aberal01    L\n",
       "21  abercre01    R\n",
       "22  abernbi01    R\n",
       "23  abernbr01    R\n",
       "24  abernte01    R\n",
       "25  abernte02    R"
      ]
     },
     "execution_count": 8,
     "metadata": {},
     "output_type": "execute_result"
    }
   ],
   "source": [
    "#读取球员惯用手数据，去除多余列\n",
    "player_data = pd.read_csv(\"Master.csv\")\n",
    "list_to_drop = [\"birthYear\",\"birthMonth\",\"birthDay\",\"birthCountry\",\"birthState\",\"birthCity\",\"deathYear\",\n",
    "                \"deathMonth\",\"deathDay\",\"deathCountry\",\"deathState\",\"deathCity\",\"nameFirst\",\"nameLast\",\"nameGiven\",\n",
    "                \"weight\",\"height\",\"throws\",\"debut\",\"finalGame\",\"retroID\",\"bbrefID\"]\n",
    "player_data.drop(labels = list_to_drop,axis = 1,inplace = True)\n",
    "list_to_drop = get_null_index(player_data)\n",
    "player_data.drop(labels = list_to_drop,axis = 0,inplace = True)\n",
    "player_data.head(25)\n"
   ]
  },
  {
   "cell_type": "code",
   "execution_count": 9,
   "metadata": {
    "collapsed": true
   },
   "outputs": [],
   "source": [
    "#根据球员惯用手进行分组\n",
    "mixed_data = pd.merge(batting_data,player_data,on = \"playerID\")\n",
    "r_group = mixed_data[mixed_data[\"bats\"] == \"R\"]\n",
    "l_group = mixed_data[mixed_data[\"bats\"] == \"L\"]\n",
    "b_group = mixed_data[mixed_data[\"bats\"] == \"B\"]\n",
    "\n",
    "r_handed_data = r_group.groupby(\"playerID\").mean()\n",
    "l_handed_data = l_group.groupby(\"playerID\").mean()\n",
    "anbi_data = b_group.groupby(\"playerID\").mean()\n",
    "\n",
    "all_data = r_handed_data.append(l_handed_data,ignore_index=True).append(anbi_data,ignore_index=True)"
   ]
  },
  {
   "cell_type": "code",
   "execution_count": 20,
   "metadata": {
    "scrolled": true
   },
   "outputs": [
    {
     "name": "stdout",
     "output_type": "stream",
     "text": [
      "Populating the interactive namespace from numpy and matplotlib\n"
     ]
    },
    {
     "data": {
      "text/plain": [
       "<matplotlib.axes._subplots.AxesSubplot at 0xf487160>"
      ]
     },
     "execution_count": 20,
     "metadata": {},
     "output_type": "execute_result"
    },
    {
     "data": {
      "image/png": "[encoded data removed]",
      "text/plain": [
       "<matplotlib.figure.Figure at 0xe952d30>"
      ]
     },
     "metadata": {},
     "output_type": "display_data"
    },
    {
     "data": {
      "image/png": "[encoded data removed]",
      "text/plain": [
       "<matplotlib.figure.Figure at 0xf3bec18>"
      ]
     },
     "metadata": {},
     "output_type": "display_data"
    }
   ],
   "source": [
    "#数据总览\n",
    "%pylab inline\n",
    "import numpy as np\n",
    "import seaborn as sns\n",
    "import matplotlib.pyplot as plt\n",
    "\n",
    "plt.title(\"histoogram of general batting data\")\n",
    "plt.xlabel(\"BA value\")\n",
    "plt.ylabel(\"player amount\")\n",
    "all_data[\"BA\"].hist(bins = 30)\n",
    "mixed_data.boxplot(column  = \"BA\",by = \"bats\")"
   ]
  },
  {
   "cell_type": "markdown",
   "metadata": {},
   "source": [
    "## 分析\n",
    "   由总体BA值的数据可以看出，击球手的击球数据呈正态分布，不过有很多球员的数据集中在接近零值。因为已经清除了上场但没击球的选手（他们可能是投球手），这些选手可能主要位置不是击球手，上场击球数过低。从箱线图来看，惯用手不同的选手的打击率很接近，但是右撇子的数据平均值略低。其中双手都善用的球员数据更集中，击球率较低的球员较少。三种惯用手的球员数据都有很多的离群值，反映出MLB球员中有小部分数据卓越的击球手，他们很可能就是名人榜球员。"
   ]
  },
  {
   "cell_type": "code",
   "execution_count": 24,
   "metadata": {
    "scrolled": true
   },
   "outputs": [
    {
     "data": {
      "text/plain": [
       "<matplotlib.axes._subplots.AxesSubplot at 0x108f9390>"
      ]
     },
     "execution_count": 24,
     "metadata": {},
     "output_type": "execute_result"
    },
    {
     "data": {
      "image/png": "[encoded data removed]",
      "text/plain": [
       "<matplotlib.figure.Figure at 0x1036e2e8>"
      ]
     },
     "metadata": {},
     "output_type": "display_data"
    },
    {
     "data": {
      "image/png": "[encoded data removed]",
      "text/plain": [
       "<matplotlib.figure.Figure at 0x1036e400>"
      ]
     },
     "metadata": {},
     "output_type": "display_data"
    }
   ],
   "source": [
    "plt.xlabel(\"OBP value\")\n",
    "plt.ylabel(\"player amount\")\n",
    "plt.title(\"histoogram of general batting data\")\n",
    "all_data[\"OBP\"].hist(bins = 30)\n",
    "mixed_data.boxplot(column  = \"OBP\",by = \"bats\")"
   ]
  },
  {
   "cell_type": "markdown",
   "metadata": {},
   "source": [
    "## 分析 \n",
    "球员的上垒率数据和打击率数据相似度很高，总体数据也呈明显正态分布。"
   ]
  },
  {
   "cell_type": "code",
   "execution_count": 22,
   "metadata": {},
   "outputs": [
    {
     "data": {
      "text/plain": [
       "<matplotlib.axes._subplots.AxesSubplot at 0xf357780>"
      ]
     },
     "execution_count": 22,
     "metadata": {},
     "output_type": "execute_result"
    },
    {
     "data": {
      "image/png": "[encoded data removed]",
      "text/plain": [
       "<matplotlib.figure.Figure at 0xf785358>"
      ]
     },
     "metadata": {},
     "output_type": "display_data"
    },
    {
     "data": {
      "image/png": "[encoded data removed]",
      "text/plain": [
       "<matplotlib.figure.Figure at 0xf785ef0>"
      ]
     },
     "metadata": {},
     "output_type": "display_data"
    }
   ],
   "source": [
    "plt.xlabel(\"SLG value\")\n",
    "plt.ylabel(\"player amount\")\n",
    "plt.title(\"histoogram of general batting data\")\n",
    "all_data[\"SLG\"].hist(bins = 30)\n",
    "mixed_data.boxplot(column  = \"SLG\",by = \"bats\")"
   ]
  },
  {
   "cell_type": "markdown",
   "metadata": {},
   "source": [
    "## 分析\n",
    "不同于前两个表现数据，SLG的总体数据正态趋势不明显，大部分球员的数据集中在低于0.5的水平，可以体现出大部分球员的长打水平不高。从箱线图来看，三种惯用手的球员数据还是很接近，离群值之外的数据都保持在0到1之间，这也符合正常球员的长打数据特点。"
   ]
  },
  {
   "cell_type": "code",
   "execution_count": 23,
   "metadata": {
    "scrolled": false
   },
   "outputs": [
    {
     "data": {
      "text/plain": [
       "<matplotlib.axes._subplots.AxesSubplot at 0x10354eb8>"
      ]
     },
     "execution_count": 23,
     "metadata": {},
     "output_type": "execute_result"
    },
    {
     "data": {
      "image/png": "[encoded data removed]",
      "text/plain": [
       "<matplotlib.figure.Figure at 0x100bce80>"
      ]
     },
     "metadata": {},
     "output_type": "display_data"
    },
    {
     "data": {
      "image/png": "[encoded data removed]",
      "text/plain": [
       "<matplotlib.figure.Figure at 0x100bceb8>"
      ]
     },
     "metadata": {},
     "output_type": "display_data"
    }
   ],
   "source": [
    "plt.xlabel(\"OPS value\")\n",
    "plt.ylabel(\"player amount\")\n",
    "plt.title(\"histoogram of general batting data\")\n",
    "all_data[\"OPS\"].hist(bins = 30)\n",
    "mixed_data.boxplot(column  = \"OPS\",by = \"bats\")"
   ]
  },
  {
   "cell_type": "markdown",
   "metadata": {},
   "source": [
    "## 分析\n",
    "攻击指数数据接近于打击率与上垒率数据，整体呈正态分布，三种惯用手球员数据仍较接近。"
   ]
  },
  {
   "cell_type": "code",
   "execution_count": 14,
   "metadata": {},
   "outputs": [
    {
     "data": {
      "text/plain": [
       "0.46399999999999997"
      ]
     },
     "execution_count": 14,
     "metadata": {},
     "output_type": "execute_result"
    }
   ],
   "source": [
    "#编写根据数据值获得对应z值的函数\n",
    "z_table = pd.read_csv(\"Ztable.csv\")\n",
    "def get_z_value(float_value):\n",
    "    decimal2 = round(float_value,1)\n",
    "    if decimal2 - float_value > 0:\n",
    "        decimal2 = decimal2 - 0.1 \n",
    "    decimal3 = round(float_value,2)\n",
    "    row_index = int(decimal2 * 10)\n",
    "    column_index = int((decimal3 - decimal2)/0.01) \n",
    "    row_ex = z_table.iloc[row_index]\n",
    "    row_ex.drop(labels = \"Z\",inplace = True)\n",
    "    return row_ex[column_index]\n",
    "get_z_value(0.0944)"
   ]
  },
  {
   "cell_type": "code",
   "execution_count": 15,
   "metadata": {
    "collapsed": true
   },
   "outputs": [],
   "source": [
    "#获取z值的函数\n",
    "BA_mean = all_data[\"BA\"].mean()\n",
    "OBP_mean = all_data[\"OBP\"].mean()\n",
    "SLG_mean = all_data[\"SLG\"].mean()\n",
    "OPS_mean = all_data[\"OPS\"].mean()\n",
    "def compare_correlation_with_all(data):\n",
    "        BA_std_dis = abs((data[\"BA\"].mean() - BA_mean) / data[\"BA\"].std(ddof = 0))\n",
    "        OBP_std_dis = abs((data[\"OBP\"].mean() - OBP_mean) / data[\"OBP\"].std(ddof = 0)) \n",
    "        SLG_std_dis = abs((data[\"SLG\"].mean() - SLG_mean) / data[\"SLG\"].std(ddof = 0))\n",
    "        OPS_std_dis = abs((data[\"OPS\"].mean() - OPS_mean) / data[\"OPS\"].std(ddof = 0))\n",
    "        \n",
    "        BP_p = get_z_value(BA_std_dis)\n",
    "        OBP_p = get_z_value(OBP_std_dis)\n",
    "        SLG_p = get_z_value(SLG_std_dis)\n",
    "        OPS_p = get_z_value(OPS_std_dis)\n",
    "        return  BP_p,OBP_p,SLG_p,OPS_p\n",
    "\n"
   ]
  },
  {
   "cell_type": "code",
   "execution_count": 16,
   "metadata": {
    "scrolled": true
   },
   "outputs": [
    {
     "name": "stdout",
     "output_type": "stream",
     "text": [
      "(0.47600000000000003, 0.46799999999999997, 0.47999999999999998, 0.47200000000000003)\n"
     ]
    },
    {
     "data": {
      "text/html": [
       "<div>\n",
       "<style>\n",
       "    .dataframe thead tr:only-child th {\n",
       "        text-align: right;\n",
       "    }\n",
       "\n",
       "    .dataframe thead th {\n",
       "        text-align: left;\n",
       "    }\n",
       "\n",
       "    .dataframe tbody tr th {\n",
       "        vertical-align: top;\n",
       "    }\n",
       "</style>\n",
       "<table border=\"1\" class=\"dataframe\">\n",
       "  <thead>\n",
       "    <tr style=\"text-align: right;\">\n",
       "      <th></th>\n",
       "      <th>BA</th>\n",
       "      <th>OBP</th>\n",
       "      <th>SLG</th>\n",
       "      <th>OPS</th>\n",
       "    </tr>\n",
       "  </thead>\n",
       "  <tbody>\n",
       "    <tr>\n",
       "      <th>count</th>\n",
       "      <td>5812.000000</td>\n",
       "      <td>5812.000000</td>\n",
       "      <td>5812.000000</td>\n",
       "      <td>5812.000000</td>\n",
       "    </tr>\n",
       "    <tr>\n",
       "      <th>mean</th>\n",
       "      <td>0.167802</td>\n",
       "      <td>0.212452</td>\n",
       "      <td>0.277516</td>\n",
       "      <td>0.489968</td>\n",
       "    </tr>\n",
       "    <tr>\n",
       "      <th>std</th>\n",
       "      <td>0.127260</td>\n",
       "      <td>0.139986</td>\n",
       "      <td>0.249810</td>\n",
       "      <td>0.371927</td>\n",
       "    </tr>\n",
       "    <tr>\n",
       "      <th>min</th>\n",
       "      <td>0.000000</td>\n",
       "      <td>0.000000</td>\n",
       "      <td>0.000000</td>\n",
       "      <td>0.000000</td>\n",
       "    </tr>\n",
       "    <tr>\n",
       "      <th>25%</th>\n",
       "      <td>0.079315</td>\n",
       "      <td>0.120000</td>\n",
       "      <td>0.096439</td>\n",
       "      <td>0.225769</td>\n",
       "    </tr>\n",
       "    <tr>\n",
       "      <th>50%</th>\n",
       "      <td>0.179546</td>\n",
       "      <td>0.231641</td>\n",
       "      <td>0.267738</td>\n",
       "      <td>0.500000</td>\n",
       "    </tr>\n",
       "    <tr>\n",
       "      <th>75%</th>\n",
       "      <td>0.242446</td>\n",
       "      <td>0.302555</td>\n",
       "      <td>0.418104</td>\n",
       "      <td>0.720280</td>\n",
       "    </tr>\n",
       "    <tr>\n",
       "      <th>max</th>\n",
       "      <td>1.000000</td>\n",
       "      <td>1.000000</td>\n",
       "      <td>4.000000</td>\n",
       "      <td>5.000000</td>\n",
       "    </tr>\n",
       "  </tbody>\n",
       "</table>\n",
       "</div>"
      ],
      "text/plain": [
       "                BA          OBP          SLG          OPS\n",
       "count  5812.000000  5812.000000  5812.000000  5812.000000\n",
       "mean      0.167802     0.212452     0.277516     0.489968\n",
       "std       0.127260     0.139986     0.249810     0.371927\n",
       "min       0.000000     0.000000     0.000000     0.000000\n",
       "25%       0.079315     0.120000     0.096439     0.225769\n",
       "50%       0.179546     0.231641     0.267738     0.500000\n",
       "75%       0.242446     0.302555     0.418104     0.720280\n",
       "max       1.000000     1.000000     4.000000     5.000000"
      ]
     },
     "execution_count": 16,
     "metadata": {},
     "output_type": "execute_result"
    }
   ],
   "source": [
    "#右撇子的数据\n",
    "print compare_correlation_with_all(r_handed_data)\n",
    "r_handed_data.describe()"
   ]
  },
  {
   "cell_type": "markdown",
   "metadata": {},
   "source": [
    "右撇子的平均值数据是三种惯用手中最低的，但是不具有统计显著性，造成数据低下可能有多种原因，有可能针对右投手左撇子击球手更占优势，需要设计实验证明。"
   ]
  },
  {
   "cell_type": "code",
   "execution_count": 17,
   "metadata": {
    "scrolled": false
   },
   "outputs": [
    {
     "data": {
      "text/html": [
       "<div>\n",
       "<style>\n",
       "    .dataframe thead tr:only-child th {\n",
       "        text-align: right;\n",
       "    }\n",
       "\n",
       "    .dataframe thead th {\n",
       "        text-align: left;\n",
       "    }\n",
       "\n",
       "    .dataframe tbody tr th {\n",
       "        vertical-align: top;\n",
       "    }\n",
       "</style>\n",
       "<table border=\"1\" class=\"dataframe\">\n",
       "  <thead>\n",
       "    <tr style=\"text-align: right;\">\n",
       "      <th></th>\n",
       "      <th>BA</th>\n",
       "      <th>OBP</th>\n",
       "      <th>SLG</th>\n",
       "      <th>OPS</th>\n",
       "    </tr>\n",
       "  </thead>\n",
       "  <tbody>\n",
       "    <tr>\n",
       "      <th>count</th>\n",
       "      <td>2550.000000</td>\n",
       "      <td>2550.000000</td>\n",
       "      <td>2550.000000</td>\n",
       "      <td>2550.000000</td>\n",
       "    </tr>\n",
       "    <tr>\n",
       "      <th>mean</th>\n",
       "      <td>0.184411</td>\n",
       "      <td>0.238720</td>\n",
       "      <td>0.307284</td>\n",
       "      <td>0.546004</td>\n",
       "    </tr>\n",
       "    <tr>\n",
       "      <th>std</th>\n",
       "      <td>0.117014</td>\n",
       "      <td>0.133045</td>\n",
       "      <td>0.215585</td>\n",
       "      <td>0.333192</td>\n",
       "    </tr>\n",
       "    <tr>\n",
       "      <th>min</th>\n",
       "      <td>0.000000</td>\n",
       "      <td>0.000000</td>\n",
       "      <td>0.000000</td>\n",
       "      <td>0.000000</td>\n",
       "    </tr>\n",
       "    <tr>\n",
       "      <th>25%</th>\n",
       "      <td>0.114286</td>\n",
       "      <td>0.160597</td>\n",
       "      <td>0.148341</td>\n",
       "      <td>0.326770</td>\n",
       "    </tr>\n",
       "    <tr>\n",
       "      <th>50%</th>\n",
       "      <td>0.205549</td>\n",
       "      <td>0.268120</td>\n",
       "      <td>0.324666</td>\n",
       "      <td>0.601291</td>\n",
       "    </tr>\n",
       "    <tr>\n",
       "      <th>75%</th>\n",
       "      <td>0.250982</td>\n",
       "      <td>0.322166</td>\n",
       "      <td>0.442257</td>\n",
       "      <td>0.761913</td>\n",
       "    </tr>\n",
       "    <tr>\n",
       "      <th>max</th>\n",
       "      <td>1.000000</td>\n",
       "      <td>1.000000</td>\n",
       "      <td>3.000000</td>\n",
       "      <td>4.000000</td>\n",
       "    </tr>\n",
       "  </tbody>\n",
       "</table>\n",
       "</div>"
      ],
      "text/plain": [
       "                BA          OBP          SLG          OPS\n",
       "count  2550.000000  2550.000000  2550.000000  2550.000000\n",
       "mean      0.184411     0.238720     0.307284     0.546004\n",
       "std       0.117014     0.133045     0.215585     0.333192\n",
       "min       0.000000     0.000000     0.000000     0.000000\n",
       "25%       0.114286     0.160597     0.148341     0.326770\n",
       "50%       0.205549     0.268120     0.324666     0.601291\n",
       "75%       0.250982     0.322166     0.442257     0.761913\n",
       "max       1.000000     1.000000     3.000000     4.000000"
      ]
     },
     "execution_count": 17,
     "metadata": {},
     "output_type": "execute_result"
    }
   ],
   "source": [
    "#左撇子的数据\n",
    "compare_correlation_with_all(l_handed_data)\n",
    "l_handed_data.describe()"
   ]
  },
  {
   "cell_type": "markdown",
   "metadata": {},
   "source": [
    "左撇子数据平均值居中，同样不具有统计差异性。"
   ]
  },
  {
   "cell_type": "code",
   "execution_count": 18,
   "metadata": {},
   "outputs": [
    {
     "data": {
      "text/html": [
       "<div>\n",
       "<style>\n",
       "    .dataframe thead tr:only-child th {\n",
       "        text-align: right;\n",
       "    }\n",
       "\n",
       "    .dataframe thead th {\n",
       "        text-align: left;\n",
       "    }\n",
       "\n",
       "    .dataframe tbody tr th {\n",
       "        vertical-align: top;\n",
       "    }\n",
       "</style>\n",
       "<table border=\"1\" class=\"dataframe\">\n",
       "  <thead>\n",
       "    <tr style=\"text-align: right;\">\n",
       "      <th></th>\n",
       "      <th>BA</th>\n",
       "      <th>OBP</th>\n",
       "      <th>SLG</th>\n",
       "      <th>OPS</th>\n",
       "    </tr>\n",
       "  </thead>\n",
       "  <tbody>\n",
       "    <tr>\n",
       "      <th>count</th>\n",
       "      <td>736.000000</td>\n",
       "      <td>736.000000</td>\n",
       "      <td>736.000000</td>\n",
       "      <td>736.000000</td>\n",
       "    </tr>\n",
       "    <tr>\n",
       "      <th>mean</th>\n",
       "      <td>0.202890</td>\n",
       "      <td>0.266034</td>\n",
       "      <td>0.333429</td>\n",
       "      <td>0.599463</td>\n",
       "    </tr>\n",
       "    <tr>\n",
       "      <th>std</th>\n",
       "      <td>0.091458</td>\n",
       "      <td>0.101544</td>\n",
       "      <td>0.188998</td>\n",
       "      <td>0.277779</td>\n",
       "    </tr>\n",
       "    <tr>\n",
       "      <th>min</th>\n",
       "      <td>0.000000</td>\n",
       "      <td>0.000000</td>\n",
       "      <td>0.000000</td>\n",
       "      <td>0.000000</td>\n",
       "    </tr>\n",
       "    <tr>\n",
       "      <th>25%</th>\n",
       "      <td>0.163089</td>\n",
       "      <td>0.223337</td>\n",
       "      <td>0.239717</td>\n",
       "      <td>0.473836</td>\n",
       "    </tr>\n",
       "    <tr>\n",
       "      <th>50%</th>\n",
       "      <td>0.222068</td>\n",
       "      <td>0.286792</td>\n",
       "      <td>0.351922</td>\n",
       "      <td>0.642737</td>\n",
       "    </tr>\n",
       "    <tr>\n",
       "      <th>75%</th>\n",
       "      <td>0.254435</td>\n",
       "      <td>0.323145</td>\n",
       "      <td>0.428336</td>\n",
       "      <td>0.749589</td>\n",
       "    </tr>\n",
       "    <tr>\n",
       "      <th>max</th>\n",
       "      <td>1.000000</td>\n",
       "      <td>1.000000</td>\n",
       "      <td>3.000000</td>\n",
       "      <td>4.000000</td>\n",
       "    </tr>\n",
       "  </tbody>\n",
       "</table>\n",
       "</div>"
      ],
      "text/plain": [
       "               BA         OBP         SLG         OPS\n",
       "count  736.000000  736.000000  736.000000  736.000000\n",
       "mean     0.202890    0.266034    0.333429    0.599463\n",
       "std      0.091458    0.101544    0.188998    0.277779\n",
       "min      0.000000    0.000000    0.000000    0.000000\n",
       "25%      0.163089    0.223337    0.239717    0.473836\n",
       "50%      0.222068    0.286792    0.351922    0.642737\n",
       "75%      0.254435    0.323145    0.428336    0.749589\n",
       "max      1.000000    1.000000    3.000000    4.000000"
      ]
     },
     "execution_count": 18,
     "metadata": {},
     "output_type": "execute_result"
    }
   ],
   "source": [
    "#左右手都善用的人的数据\n",
    "compare_correlation_with_all(anbi_data)\n",
    "anbi_data.describe()"
   ]
  },
  {
   "cell_type": "markdown",
   "metadata": {},
   "source": [
    "左右手都善用的人数据最优秀，但同样不具有统计显著性，有可能因为可以针对不同善用手投球手作出调整。"
   ]
  },
  {
   "cell_type": "markdown",
   "metadata": {},
   "source": [
    "# 实验结果\n",
    "直接对比各项数据，可以发现双手都善用的击球手的数据有略微的优势，但最终实验结果无法否定零假设，即惯用手和球员的表现数据没有显著的统计差异，这也是可以预料到的。本次实验结果只是暂时的，会依照今后更详尽科学的实验方法进行改进。"
   ]
  }
 ],
 "metadata": {
  "kernelspec": {
   "display_name": "Python 2",
   "language": "python",
   "name": "python2"
  },
  "language_info": {
   "codemirror_mode": {
    "name": "ipython",
    "version": 2
   },
   "file_extension": ".py",
   "mimetype": "text/x-python",
   "name": "python",
   "nbconvert_exporter": "python",
   "pygments_lexer": "ipython2",
   "version": "2.7.13"
  }
 },
 "nbformat": 4,
 "nbformat_minor": 2
}
